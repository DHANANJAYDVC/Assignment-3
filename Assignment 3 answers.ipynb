{
 "cells": [
  {
   "cell_type": "markdown",
   "id": "235fb580",
   "metadata": {},
   "source": [
    "Q1. Why are functions advantageous to have in your programs?\n",
    "\n",
    "Ans: Function helps to reduce and shorten the length of the code and duolication of the code and it makes code to easier to update and read \n"
   ]
  },
  {
   "cell_type": "markdown",
   "id": "4d0ac1e6",
   "metadata": {},
   "source": [
    "Q2. When does the code in a function run: when it's specified or when it's called?\n",
    "\n",
    "Ans: The code in a function run's when the function is called"
   ]
  },
  {
   "cell_type": "markdown",
   "id": "fcec706d",
   "metadata": {},
   "source": [
    "Q3. What statement creates a function?\n",
    "\n",
    "Ans: The 'def' keyword is a statement creats a function"
   ]
  },
  {
   "cell_type": "markdown",
   "id": "1216f07a",
   "metadata": {},
   "source": [
    "Q4. What is the difference between a function and a function call?\n",
    "\n",
    "Ans: \n",
    "\n",
    "Function = Function is a block of code that does specific task or operation and return a result\n",
    "\n",
    "Function call = Function call is the code used to call the function or pass control to a function"
   ]
  },
  {
   "cell_type": "markdown",
   "id": "0b6d302d",
   "metadata": {},
   "source": [
    "Q5. How many global scopes are there in a Python program? How many local scopes?\n",
    "\n",
    "Ans: There is only one global scope and local scope in the python"
   ]
  },
  {
   "cell_type": "markdown",
   "id": "dc129803",
   "metadata": {},
   "source": [
    "Q6. What happens to variables in a local scope when the function call returns?\n",
    "\n",
    "Ans: In the local scope variables diappear after the function returns "
   ]
  },
  {
   "cell_type": "markdown",
   "id": "4975d23e",
   "metadata": {},
   "source": [
    "Q7. What is the concept of a return value? Is it possible to have a return value in an expression?\n",
    "\n",
    "Ans: A return value statement is used to end the execution of the function and shows the result. we can use any python object as a return value in an python expression "
   ]
  },
  {
   "cell_type": "markdown",
   "id": "6bcad1b2",
   "metadata": {},
   "source": [
    "Q8. If a function does not have a return statement, what is the return value of a call to that function?\n",
    "\n",
    "Ans: None is the return value when we call the function which don't have any return statemnet "
   ]
  },
  {
   "cell_type": "markdown",
   "id": "db1e49b0",
   "metadata": {},
   "source": [
    "Q9. How do you make a function variable refer to the global variable?\n",
    "\n",
    "Ans: To make a function variable refer to the global variable we can use global keyword "
   ]
  },
  {
   "cell_type": "markdown",
   "id": "d29e8435",
   "metadata": {},
   "source": [
    "Q10. What is the data type of None?\n",
    "\n",
    "Ans: None have 'NoneType' data type"
   ]
  },
  {
   "cell_type": "markdown",
   "id": "b686c363",
   "metadata": {},
   "source": [
    "Q11. What does the sentence import areallyourpetsnamederic do?\n",
    "\n",
    "Ans: The statement areallyourpetsnamederic is used to import a module named areallyourpetsnamederic "
   ]
  },
  {
   "cell_type": "markdown",
   "id": "31462e47",
   "metadata": {},
   "source": [
    "Q12. If you had a bacon() feature in a spam module, what would you call it after importing spam?\n",
    "\n",
    "Ans: This function can be called with spam.bacon()"
   ]
  },
  {
   "cell_type": "markdown",
   "id": "34537c72",
   "metadata": {},
   "source": [
    "Q13. What can you do to save a programme from crashing if it encounters an error?\n",
    "\n",
    "Ans: If program is crashing i will move code inside the try and except statement to handle the exception"
   ]
  },
  {
   "cell_type": "markdown",
   "id": "82ae97f6",
   "metadata": {},
   "source": [
    "Q14. What is the purpose of the try clause? What is the purpose of the except clause?\n",
    "\n",
    "Ans: The try block is used to check some code for errors. the code inside the try block executes when there is no error in the program. Where as the code inside the exccept block encounters when there is some error in the try block"
   ]
  }
 ],
 "metadata": {
  "kernelspec": {
   "display_name": "Python 3 (ipykernel)",
   "language": "python",
   "name": "python3"
  },
  "language_info": {
   "codemirror_mode": {
    "name": "ipython",
    "version": 3
   },
   "file_extension": ".py",
   "mimetype": "text/x-python",
   "name": "python",
   "nbconvert_exporter": "python",
   "pygments_lexer": "ipython3",
   "version": "3.9.7"
  }
 },
 "nbformat": 4,
 "nbformat_minor": 5
}
